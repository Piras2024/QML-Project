{
  "cells": [
    {
      "cell_type": "markdown",
      "metadata": {
        "id": "view-in-github",
        "colab_type": "text"
      },
      "source": [
        "<a href=\"https://colab.research.google.com/github/Piras2024/QNL-Net-for-Image-Classification-Review-by-Matteo-Piras/blob/main/MNIST_QNL_Net.ipynb\" target=\"_parent\"><img src=\"https://colab.research.google.com/assets/colab-badge.svg\" alt=\"Open In Colab\"/></a>"
      ]
    },
    {
      "cell_type": "code",
      "execution_count": null,
      "metadata": {
        "id": "nwumcGHeo8ec"
      },
      "outputs": [],
      "source": [
        "!pip install qiskit==1.4.2\n",
        "import qiskit\n",
        "print(qiskit.__version__)"
      ]
    },
    {
      "cell_type": "markdown",
      "source": [
        "#PQC DEFINITION"
      ],
      "metadata": {
        "id": "gjQSeKdWDaLJ"
      }
    },
    {
      "cell_type": "code",
      "source": [
        "from qiskit import QuantumCircuit\n",
        "from qiskit.circuit import Parameter\n",
        "\n",
        "\n",
        "class QNLNetCircuit:\n",
        "    def __init__(self, num_qubits=4, ansatz=0, ansatz_reps=1):\n",
        "        \"\"\"\n",
        "        QNLNNCircuit class implements a quantum circuit\n",
        "        for a non-local neural network.\n",
        "\n",
        "        Args:\n",
        "             num_qubits: The number of qubit used in the circuit. It is fixed\n",
        "                to be 4 qubits for this circuit implementation.\n",
        "        \"\"\"\n",
        "        self.ansatz = ansatz\n",
        "        self.ansatz_reps = ansatz_reps\n",
        "        self.num_qubits = num_qubits\n",
        "        self.circuit = QuantumCircuit(num_qubits)\n",
        "\n",
        "        # Parameters to be optimized\n",
        "        self.parameters = self._setup_parameters()\n",
        "\n",
        "        # Create the circuit\n",
        "        self.build_circuit()\n",
        "\n",
        "    def _setup_parameters(self):\n",
        "        \"\"\"\n",
        "        Sets the parameters to be optimized for the circuit.\n",
        "        \"\"\"\n",
        "        params = {}\n",
        "        for i in range(self.ansatz_reps):\n",
        "            params[f'x_{2*i}'] = Parameter(f'x_{2*i}')\n",
        "            params[f'x_{2*i+1}'] = Parameter(f'x_{2*i+1}')\n",
        "            params[f'theta_{i}'] = Parameter(f'theta_{i}')\n",
        "            params[f'phi_{i}'] = Parameter(f'phi_{i}')\n",
        "            params[f'g_{i}'] = Parameter(f'g_{i}')\n",
        "        return params\n",
        "\n",
        "    def _apply_ansatz_layer(self, rep):\n",
        "        \"\"\"\n",
        "        Applies a single ansatz layer to the circuit.\n",
        "        \"\"\"\n",
        "        x_0 = self.parameters[f'x_{2*rep}']\n",
        "        x_1 = self.parameters[f'x_{2*rep+1}']\n",
        "        theta_0 = self.parameters[f'theta_{rep}']\n",
        "        phi_0 = self.parameters[f'phi_{rep}']\n",
        "        g_0 = self.parameters[f'g_{rep}']\n",
        "\n",
        "        self.circuit.rz(x_0, 0)\n",
        "        self.circuit.ry(theta_0, 1)\n",
        "        self.circuit.ry(phi_0, 2)\n",
        "        self.circuit.rx(g_0, 3)\n",
        "\n",
        "        if self.ansatz == 0:\n",
        "            self.circuit.cx(1, 2)\n",
        "            self.circuit.cx(2, 3)\n",
        "            self.circuit.cx(3, 0)\n",
        "        elif self.ansatz == 1:\n",
        "            self.circuit.cx(3, 2)\n",
        "            self.circuit.cx(2, 1)\n",
        "            self.circuit.cx(1, 0)\n",
        "        elif self.ansatz == 2:\n",
        "            self.circuit.cx(1, 3)\n",
        "            self.circuit.cx(3, 2)\n",
        "            self.circuit.cx(2, 0)\n",
        "        else:\n",
        "            print(\"Invalid Ansatz\")\n",
        "\n",
        "        self.circuit.rz(x_1, 0)\n",
        "\n",
        "\n",
        "    def build_circuit(self):\n",
        "        \"\"\"\n",
        "        Builds the QNLNN circuit with the desired ansatz\n",
        "        and number of repetitions\n",
        "        \"\"\"\n",
        "        for rep in range(self.ansatz_reps):\n",
        "            self._apply_ansatz_layer(rep)\n",
        "\n",
        "\n",
        "    def circuit_parameters(self):\n",
        "        \"\"\"\n",
        "        Returns the set of parameters.\n",
        "        \"\"\"\n",
        "        return set(self.parameters.values())\n",
        "\n",
        "    def get_circuit(self):\n",
        "        \"\"\"\n",
        "        Returns the circuit.\n",
        "        \"\"\"\n",
        "        return self.circuit"
      ],
      "metadata": {
        "id": "Ly5gXGxODYu0"
      },
      "execution_count": null,
      "outputs": []
    },
    {
      "cell_type": "code",
      "source": [
        "from qiskit.visualization import circuit_drawer\n",
        "\n",
        "# Instantiate the circuit with ansatz 0\n",
        "circuit = QNLNetCircuit(ansatz=0, ansatz_reps=1)\n",
        "\n",
        "# Get the QuantumCircuit object\n",
        "qc = circuit.get_circuit()\n",
        "\n",
        "# Print the circuit\n",
        "print(qc)"
      ],
      "metadata": {
        "id": "SgmBe2nwEGfc"
      },
      "execution_count": null,
      "outputs": []
    },
    {
      "cell_type": "code",
      "execution_count": null,
      "metadata": {
        "id": "5bW2CzYqpppo"
      },
      "outputs": [],
      "source": [
        "!pip install qiskit-machine-learning"
      ]
    },
    {
      "cell_type": "markdown",
      "source": [
        "#MULTICLASS CLASSIFICATION MODEL DEFINITION"
      ],
      "metadata": {
        "id": "8Jg6BjmdEYKm"
      }
    },
    {
      "cell_type": "code",
      "execution_count": null,
      "metadata": {
        "id": "d9NTJ1x4puQu"
      },
      "outputs": [],
      "source": [
        "import torch\n",
        "from torch.nn import (\n",
        "    Module,\n",
        "    Conv2d,\n",
        "    Linear,\n",
        "    Dropout2d,\n",
        "    Flatten,\n",
        ")\n",
        "from torch import cat\n",
        "import torch.nn.functional as F\n",
        "from qiskit_machine_learning.connectors import TorchConnector\n",
        "from qiskit import QuantumCircuit\n",
        "from qiskit.circuit.library import ZFeatureMap\n",
        "from qiskit_machine_learning.neural_networks import EstimatorQNN\n",
        "from qiskit.quantum_info import SparsePauliOp, Pauli\n",
        "\n",
        "num_qubits = 4\n",
        "output_shape = 4  # Number of classes\n",
        "\n",
        "\n",
        "# Compose QNL-Net with Feature Map\n",
        "def create_qnlnet(feature_map_reps, ansatz, ansatz_reps):\n",
        "    \"\"\"\n",
        "    Compose QNL-Net with Feature Map utilizing EstimatorQNN.\n",
        "\n",
        "    Returns:\n",
        "        Quantum non-local neural network.\n",
        "    \"\"\"\n",
        "    # Feature Map for Encoding\n",
        "    feature_map = ZFeatureMap(num_qubits, reps=feature_map_reps)\n",
        "\n",
        "    # QNL-Net circuit\n",
        "    qnlnet_instance = QNLNetCircuit(num_qubits=num_qubits, ansatz=ansatz, ansatz_reps=ansatz_reps)\n",
        "    qnlnet_circuit = qnlnet_instance.get_circuit()\n",
        "\n",
        "    # QNL-Net circuit\n",
        "    qc = QuantumCircuit(num_qubits)\n",
        "    qc.compose(feature_map, inplace=True)\n",
        "    qc.compose(qnlnet_circuit, inplace=True)\n",
        "\n",
        "    # EstimatorQNN Observable\n",
        "    pauli_z_qubit0 = Pauli('Z' + 'I' * (num_qubits - 1))\n",
        "    observable_0 = SparsePauliOp([pauli_z_qubit0])\n",
        "    pauli_z_qubit1 = Pauli('I' + 'Z' + 'I' * (num_qubits - 2))\n",
        "    observable_1 = SparsePauliOp([pauli_z_qubit1])\n",
        "\n",
        "    #observables = [observable_0]\n",
        "    observables= [observable_0, observable_1]\n",
        "\n",
        "    # REMEMBER TO SET input_gradients=True FOR ENABLING HYBRID GRADIENT BACKPROP\n",
        "    qnlnet = EstimatorQNN(\n",
        "        circuit=qc,\n",
        "        observables=observables,\n",
        "        input_params=feature_map.parameters,\n",
        "        weight_params=qnlnet_instance.circuit_parameters(),\n",
        "        input_gradients=True,\n",
        "    )\n",
        "\n",
        "    return qnlnet\n",
        "\n",
        "\n",
        "# Define torch Module for Hybrid CNN-QNL-Net\n",
        "class HybridCNNQNLNet(Module):\n",
        "    \"\"\"\n",
        "    HybridCNNQNLNet is a hybrid quantum-classical convolutional neural network\n",
        "    with QNL-Net.\n",
        "\n",
        "    Args:\n",
        "        qnlnet: Quantum non-local neural network.\n",
        "    \"\"\"\n",
        "\n",
        "    def __init__(self, qnlnet):\n",
        "        super().__init__()\n",
        "        self.conv1 = Conv2d(1, 2, kernel_size=5)\n",
        "        self.conv2 = Conv2d(2, 16, kernel_size=5)\n",
        "        self.dropout = Dropout2d()\n",
        "        self.flatten = Flatten()\n",
        "        self.fc1 = Linear(256, 128)\n",
        "        self.fc2 = Linear(128, num_qubits)  # 4 inputs to QNL-Net\n",
        "\n",
        "        # Apply torch connector, weights chosen\n",
        "        # uniformly at random from interval [-1,1].\n",
        "        self.qnlnet = TorchConnector(qnlnet)\n",
        "\n",
        "        # output from QNLNN\n",
        "        self.output_layer = Linear(2, output_shape)\n",
        "\n",
        "    def forward(self, x):\n",
        "        \"\"\"\n",
        "        Forward pass of the HybridCNNQNLNet.\n",
        "\n",
        "        Args:\n",
        "            x (torch.Tensor): Input tensor.\n",
        "\n",
        "        Returns:\n",
        "            x (torch.Tensor): Output tensor.\n",
        "        \"\"\"\n",
        "        # CNN\n",
        "        x = F.relu(self.conv1(x))\n",
        "        x = F.max_pool2d(x, 2)\n",
        "        x = F.relu(self.conv2(x))\n",
        "        x = F.max_pool2d(x, 2)\n",
        "        x = self.dropout(x)\n",
        "        x = self.flatten(x)\n",
        "        x = F.relu(self.fc1(x))\n",
        "        x = self.fc2(x)\n",
        "\n",
        "        # QNLNN\n",
        "        x = self.qnlnet.forward(x)\n",
        "\n",
        "        # Post-QNLNN Classical Linear layer\n",
        "        x = self.output_layer(x)\n",
        "\n",
        "        #x = cat((x, 1 - x), -1)\n",
        "\n",
        "        return x"
      ]
    },
    {
      "cell_type": "markdown",
      "source": [
        "#MODEL INIZIALIZATION"
      ],
      "metadata": {
        "id": "b1D0zWWPEh0e"
      }
    },
    {
      "cell_type": "code",
      "execution_count": null,
      "metadata": {
        "id": "3dUT0DtWqW1P"
      },
      "outputs": [],
      "source": [
        "import numpy as np\n",
        "import torch.optim as optim\n",
        "from torch import manual_seed, no_grad, device\n",
        "from torch.nn import NLLLoss\n",
        "from torch.optim.lr_scheduler import ExponentialLR\n",
        "from torch.utils.data import DataLoader\n",
        "from torchvision import datasets, transforms\n",
        "from torchsummary import summary\n",
        "import csv\n",
        "\n",
        "device = device(\"cuda\" if torch.cuda.is_available() else \"cpu\")\n",
        "\n",
        "ansatz = 0\n",
        "feature_map_reps = 1\n",
        "ansatz_reps = 1\n",
        "num_epochs = 10\n",
        "lr = 3e-4\n",
        "qnlnn = create_qnlnet(feature_map_reps, ansatz, ansatz_reps)\n",
        "model = HybridCNNQNLNet(qnlnn)\n",
        "\n",
        "# Move the model to the selected device\n",
        "model.to(device)\n"
      ]
    },
    {
      "cell_type": "markdown",
      "source": [
        "#DATATSET SETUP"
      ],
      "metadata": {
        "id": "4nNH1n1vE4qG"
      }
    },
    {
      "cell_type": "code",
      "execution_count": null,
      "metadata": {
        "id": "fa5WAJEdrLmX"
      },
      "outputs": [],
      "source": [
        "# Set train shuffle seed (for reproducibility)\n",
        "manual_seed(239)\n",
        "\n",
        "batch_size = 10\n",
        "n_train_samples = 60000\n",
        "n_test_samples = 20000\n",
        "\n",
        "# Use pre-defined torchvision function to load MNIST data\n",
        "train_dataset = datasets.MNIST(\n",
        "    root=\"./data\",\n",
        "    train=True,\n",
        "    download=True,\n",
        "    transform=transforms.Compose([transforms.ToTensor(),\n",
        "                                  transforms.Normalize((0.1307,), (0.3081,))])\n",
        ")\n",
        "\n",
        "test_dataset = datasets.MNIST(\n",
        "    root=\"./data\",\n",
        "    train=False,\n",
        "    download=True,\n",
        "    transform=transforms.Compose([transforms.ToTensor(),\n",
        "                                  transforms.Normalize((0.1307,), (0.3081,))])\n",
        ")\n",
        "\n",
        "# Filter out labels\n",
        "train_idx = np.append(\n",
        "    np.where(np.array(train_dataset.targets) == 0)[0][:n_train_samples],\n",
        "    np.append(\n",
        "        np.where(np.array(train_dataset.targets) == 1)[0][:n_train_samples],\n",
        "        np.append(\n",
        "            np.where(np.array(train_dataset.targets) == 2)[0][:n_train_samples],\n",
        "            np.where(np.array(train_dataset.targets) == 3)[0][:n_train_samples]\n",
        "    )\n",
        "    )\n",
        ")\n",
        "\n",
        "test_idx = np.append(\n",
        "    np.where(np.array(test_dataset.targets) == 0)[0][:n_test_samples],\n",
        "    np.append(\n",
        "        np.where(np.array(test_dataset.targets) == 1)[0][:n_test_samples],\n",
        "        np.append(\n",
        "            np.where(np.array(test_dataset.targets) == 2)[0][:n_test_samples],\n",
        "            np.where(np.array(test_dataset.targets) == 3)[0][:n_test_samples]\n",
        "        )\n",
        "    )\n",
        "\n",
        ")\n",
        "\n",
        "train_dataset.data = train_dataset.data[train_idx]\n",
        "train_dataset.targets = np.array(train_dataset.targets)[train_idx]\n",
        "\n",
        "test_dataset.data = test_dataset.data[test_idx]\n",
        "test_dataset.targets = np.array(test_dataset.targets)[test_idx]\n",
        "\n",
        "# Encode desired classes as targets\n",
        "train_dataset.targets[train_dataset.targets == 0] = 0\n",
        "train_dataset.targets[train_dataset.targets == 1] = 1\n",
        "train_dataset.targets[train_dataset.targets == 2] = 2\n",
        "train_dataset.targets[train_dataset.targets == 3] = 3\n",
        "\n",
        "\n",
        "test_dataset.targets[test_dataset.targets == 0] = 0\n",
        "test_dataset.targets[test_dataset.targets == 1] = 1\n",
        "test_dataset.targets[test_dataset.targets == 2] = 2\n",
        "test_dataset.targets[test_dataset.targets == 3] = 3\n",
        "\n",
        "# Define torch dataloaders\n",
        "train_loader = DataLoader(train_dataset, batch_size=batch_size, shuffle=True)\n",
        "test_loader = DataLoader(test_dataset, batch_size=batch_size, shuffle=True)\n",
        "\n",
        "# Print training and testing dataset info\n",
        "print(train_dataset)\n",
        "print(test_dataset)\n",
        "print(\"================================================================\")"
      ]
    },
    {
      "cell_type": "markdown",
      "source": [
        "#WANDB SETUP"
      ],
      "metadata": {
        "id": "S_igoFSXE91X"
      }
    },
    {
      "cell_type": "code",
      "source": [
        "!pip install wandb -qU"
      ],
      "metadata": {
        "id": "WIM8yRGoDBBL"
      },
      "execution_count": null,
      "outputs": []
    },
    {
      "cell_type": "code",
      "source": [
        "import wandb\n",
        "import os\n",
        "\n",
        "if \"WANDB_API_KEY\" not in os.environ:\n",
        "    print(\"Please set the WANDB_API_KEY environment variable.\")\n",
        "    print(\"You can find your API key at https://wandb.ai/settings\")\n",
        "    wandb.login()\n",
        "\n",
        "wandb.init(project=\"HybridCNNQNLNet_MNIST\")"
      ],
      "metadata": {
        "id": "3FnWAkxNFl2D"
      },
      "execution_count": null,
      "outputs": []
    },
    {
      "cell_type": "code",
      "source": [
        "wandb.config.ansatz = ansatz\n",
        "wandb.config.feature_map_reps = feature_map_reps\n",
        "wandb.config.ansatz_reps = ansatz_reps\n",
        "wandb.config.num_epochs = num_epochs\n",
        "wandb.config.lr = lr\n",
        "wandb.config.batch_size = batch_size"
      ],
      "metadata": {
        "id": "oOdlcjolITgQ"
      },
      "execution_count": null,
      "outputs": []
    },
    {
      "cell_type": "markdown",
      "source": [
        "#TRAINING AND TESTING"
      ],
      "metadata": {
        "id": "H-zPbkGSFEyQ"
      }
    },
    {
      "cell_type": "code",
      "execution_count": null,
      "metadata": {
        "id": "krFwV0W4qVhr"
      },
      "outputs": [],
      "source": [
        "from tqdm.notebook import tqdm\n",
        "\n",
        "loss_func = torch.nn.CrossEntropyLoss()\n",
        "optimizer = optim.Adam(model.parameters(), lr=lr)\n",
        "scheduler = ExponentialLR(optimizer, gamma=0.9)\n",
        "\n",
        "model.train()  # Set model to training mode\n",
        "\n",
        "epoch_data = []\n",
        "\n",
        "for epoch in tqdm(range(num_epochs), desc=\"Training Progress\"):\n",
        "    total_loss = 0\n",
        "    correct_train = 0\n",
        "    total_train = len(train_dataset)\n",
        "\n",
        "    for data, target in tqdm(train_loader, desc=f\"Epoch {epoch + 1}\", leave=False):\n",
        "        data, target = data.to(device), target.to(device)\n",
        "\n",
        "        optimizer.zero_grad()  # Initialize gradient\n",
        "        output = model(data)  # Forward pass\n",
        "        loss = loss_func(output, target)  # Calculate loss\n",
        "        loss.backward()  # Backward pass\n",
        "        optimizer.step()  # Optimize weights\n",
        "        total_loss += loss.item() * data.size(0)  # Accumulate loss\n",
        "        pred = output.argmax(dim=1, keepdim=True)\n",
        "        correct_train += pred.eq(target.view_as(pred)).sum().item()\n",
        "\n",
        "    epoch_loss = total_loss / total_train\n",
        "    epoch_accuracy_train = correct_train / total_train\n",
        "\n",
        "    # Testing\n",
        "    model.eval()  # Set model to evaluation mode\n",
        "    correct_test = 0\n",
        "    total_test = len(test_dataset)\n",
        "\n",
        "    with no_grad():\n",
        "        for data, target in test_loader:\n",
        "            data, target = data.to(device), target.to(device)\n",
        "            output = model(data)\n",
        "            pred = output.argmax(dim=1, keepdim=True)\n",
        "            correct_test += pred.eq(target.view_as(pred)).sum().item()\n",
        "\n",
        "    test_accuracy = correct_test / total_test\n",
        "\n",
        "    epoch_data.append((epoch + 1, epoch_loss, epoch_accuracy_train, test_accuracy))\n",
        "\n",
        "    print(\"Epoch {}: Train Loss: {:.4f}; Train Accuracy: {:.4f}; Test Accuracy: {:.4f}\".format(\n",
        "        epoch + 1, epoch_loss, epoch_accuracy_train, test_accuracy))\n",
        "\n",
        "    wandb.log({\n",
        "        \"epoch\": epoch + 1,\n",
        "        \"train_loss\": epoch_loss,\n",
        "        \"train_accuracy\": epoch_accuracy_train,\n",
        "        \"test_accuracy\": test_accuracy\n",
        "    })\n",
        "\n",
        "    model.train()  # Set model back to training mode\n",
        "    scheduler.step()  # Adjust learning rate for next epoch\n",
        "print(\"================================================================\")\n",
        "wandb.finish()\n"
      ]
    }
  ],
  "metadata": {
    "accelerator": "GPU",
    "colab": {
      "gpuType": "T4",
      "provenance": [],
      "include_colab_link": true
    },
    "kernelspec": {
      "display_name": "Python 3",
      "name": "python3"
    },
    "language_info": {
      "name": "python"
    }
  },
  "nbformat": 4,
  "nbformat_minor": 0
}